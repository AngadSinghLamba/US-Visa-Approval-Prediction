{
 "cells": [
  {
   "cell_type": "code",
   "execution_count": 1,
   "metadata": {},
   "outputs": [
    {
     "name": "stdout",
     "output_type": "stream",
     "text": [
      "Chi-square statistic: 0.0\n",
      "p-value: 1.0\n",
      "Degrees of freedom: 1\n",
      "Expected frequencies: [[3. 3.]\n",
      " [3. 3.]]\n"
     ]
    }
   ],
   "source": [
    "from scipy.stats import chi2_contingency\n",
    "\n",
    "# Example data\n",
    "gender = ['Male', 'Male', 'Female', 'Female', 'Male', 'Female']\n",
    "preference = ['Yes', 'No', 'Yes', 'Yes', 'No', 'No']\n",
    "\n",
    "# Create a contingency table\n",
    "observed = [[gender.count('Male'), gender.count('Female')],\n",
    "            [preference.count('Yes'), preference.count('No')]]\n",
    "\n",
    "# Perform chi-square test\n",
    "chi2, p, dof, expected = chi2_contingency(observed)\n",
    "\n",
    "# Print the results\n",
    "print(\"Chi-square statistic:\", chi2)\n",
    "print(\"p-value:\", p)\n",
    "print(\"Degrees of freedom:\", dof)\n",
    "print(\"Expected frequencies:\", expected)\n"
   ]
  },
  {
   "cell_type": "code",
   "execution_count": 5,
   "metadata": {},
   "outputs": [
    {
     "name": "stdout",
     "output_type": "stream",
     "text": [
      "DataFrame:\n",
      "   Hours_Studied  Exam_Score\n",
      "0              5          80\n",
      "1              6          85\n",
      "2              3          70\n",
      "3              7          90\n",
      "4              4          75\n",
      "\n",
      "Pearson correlation coefficient: 1.0\n",
      "Spearman correlation coefficient: 0.9999999999999999\n"
     ]
    }
   ],
   "source": [
    "import pandas as pd\n",
    "import numpy as np\n",
    "\n",
    "# Create a sample DataFrame\n",
    "data = {\n",
    "    'Hours_Studied': [5, 6, 3, 7, 4],\n",
    "    'Exam_Score': [80, 85, 70, 90, 75]\n",
    "}\n",
    "df = pd.DataFrame(data)\n",
    "\n",
    "# Calculate Pearson correlation coefficient\n",
    "pearson_corr = df['Hours_Studied'].corr(df['Exam_Score'])\n",
    "\n",
    "# Calculate Spearman correlation coefficient\n",
    "spearman_corr = df['Hours_Studied'].corr(df['Exam_Score'], method='spearman')\n",
    "\n",
    "# Display the DataFrame\n",
    "print(\"DataFrame:\")\n",
    "print(df)\n",
    "\n",
    "# Display correlation coefficients\n",
    "print(\"\\nPearson correlation coefficient:\", pearson_corr)\n",
    "print(\"Spearman correlation coefficient:\", spearman_corr)\n"
   ]
  },
  {
   "cell_type": "markdown",
   "metadata": {},
   "source": [
    "### Now, let's perform ANOVA to see if there are significant differences in the mean exam scores among these three teaching methods:\n",
    "\n",
    "ANOVA can indeed indicate whether there is a statistically significant difference among the means of multiple groups. However, it does not directly tell you which specific group or groups are different from each other. If the ANOVA test indicates that there is a significant difference among the group means, you would typically follow up with post-hoc tests to determine which specific group comparisons are driving that difference.\n",
    "\n",
    "Post-hoc tests, such as Tukey's HSD (Honestly Significant Difference) test, Scheffe's test, or Bonferroni correction, can be used to perform pairwise comparisons between groups and identify which groups are significantly different from each other."
   ]
  },
  {
   "cell_type": "code",
   "execution_count": 7,
   "metadata": {},
   "outputs": [
    {
     "name": "stdout",
     "output_type": "stream",
     "text": [
      "There are significant differences in exam scores between the teaching methods.\n"
     ]
    }
   ],
   "source": [
    "from scipy.stats import f_oneway\n",
    "\n",
    "# Exam scores for each teaching method\n",
    "exam_scores_method_a = [85, 90, 88, 92, 87]\n",
    "exam_scores_method_b = [78, 82, 80, 85, 79]\n",
    "exam_scores_method_c = [70, 72, 68, 75, 71]\n",
    "\n",
    "# Perform ANOVA\n",
    "f_statistic, p_value = f_oneway(exam_scores_method_a, exam_scores_method_b, exam_scores_method_c)\n",
    "\n",
    "if p_value < 0.05:\n",
    "    print(\"There are significant differences in exam scores between the teaching methods.\")\n",
    "else:\n",
    "    print(\"There are no significant differences in exam scores between the teaching methods.\")\n"
   ]
  },
  {
   "cell_type": "markdown",
   "metadata": {},
   "source": [
    "Next, let's perform a t-test to compare the mean exam scores between Method A and Method B:\n",
    "\n"
   ]
  },
  {
   "cell_type": "code",
   "execution_count": 8,
   "metadata": {},
   "outputs": [
    {
     "name": "stdout",
     "output_type": "stream",
     "text": [
      "There is a significant difference in exam scores between Method A and Method B.\n"
     ]
    }
   ],
   "source": [
    "from scipy.stats import ttest_ind\n",
    "\n",
    "# Perform t-test for Method A and Method B\n",
    "t_statistic, p_value = ttest_ind(exam_scores_method_a, exam_scores_method_b)\n",
    "\n",
    "if p_value < 0.05:\n",
    "    print(\"There is a significant difference in exam scores between Method A and Method B.\")\n",
    "else:\n",
    "    print(\"There is no significant difference in exam scores between Method A and Method B.\")\n"
   ]
  },
  {
   "cell_type": "code",
   "execution_count": 9,
   "metadata": {},
   "outputs": [
    {
     "name": "stdout",
     "output_type": "stream",
     "text": [
      "Mean Exam Score for Method A: 88.4\n",
      "Mean Exam Score for Method B: 80.8\n",
      "Mean Exam Score for Method C: 71.2\n"
     ]
    }
   ],
   "source": [
    "# Calculate mean exam score for each teaching method\n",
    "mean_score_method_a = sum(exam_scores_method_a) / len(exam_scores_method_a)\n",
    "mean_score_method_b = sum(exam_scores_method_b) / len(exam_scores_method_b)\n",
    "mean_score_method_c = sum(exam_scores_method_c) / len(exam_scores_method_c)\n",
    "\n",
    "print(\"Mean Exam Score for Method A:\", mean_score_method_a)\n",
    "print(\"Mean Exam Score for Method B:\", mean_score_method_b)\n",
    "print(\"Mean Exam Score for Method C:\", mean_score_method_c)\n"
   ]
  }
 ],
 "metadata": {
  "kernelspec": {
   "display_name": "visa",
   "language": "python",
   "name": "python3"
  },
  "language_info": {
   "codemirror_mode": {
    "name": "ipython",
    "version": 3
   },
   "file_extension": ".py",
   "mimetype": "text/x-python",
   "name": "python",
   "nbconvert_exporter": "python",
   "pygments_lexer": "ipython3",
   "version": "3.8.18"
  }
 },
 "nbformat": 4,
 "nbformat_minor": 2
}
